{
 "cells": [
  {
   "cell_type": "markdown",
   "metadata": {},
   "source": [
    "# Tableau Dashboards"
   ]
  },
  {
   "cell_type": "markdown",
   "metadata": {},
   "source": [
    "## Working with StartOut website data\n",
    "\n",
    "<h3>What is the data?</h3>\n",
    "\n",
    "- Mean and Total Exits, Funding, Patents, Jobs for each of the metropolitan areas \n",
    "    - mean implies the average experience for the LGBT founder in these cities\n",
    "    - total implies for the summation thorughout the 20 years\n",
    "- Impact Indices for each city:  \n",
    "    1. Mean & All\n",
    "    2. Mean & Female\n",
    "    3. Mean & LGBT\n",
    "    4. Total & All\n",
    "    5. Total & Female\n",
    "    6. Total & LGBT\n",
    "- Number of LGBTQ, Female, and total companies per industry and corresponding sector\n",
    "    - various percentages calculated\n",
    "\n",
    "According to the website, their internal databases have compiled:\n",
    "\n",
    "  1. 62,074 High-growth companies\n",
    "  2. 124,756 high-growth entrepreneurs\n",
    "    - identified 6703 LGBT (out) and 92096 straight or unknown\n",
    "    - about 7%\n",
    "  3. 99 Metro Areas\n",
    "\n",
    "<h3>Definitional thresholds:</h3>\n",
    "\n",
    "- **High-growth entrepreneurs:**\n",
    "    * entrepreneurs who were co-founders or employees prior to their company meetings at least the criteria below:\n",
    "- **High-growth companies:** \n",
    "    * received any amount of *Venture Capital Funding*, or \n",
    "    * received at least $1M in *Angel Funding*, or\n",
    "    * generated at least one patent **and** has created jobs beyond the founding team, or\n",
    "    * had an IPO or been acquired by another company.\n",
    "- **Metropolitan area:**\n",
    "    * minimum of 50 growth entrepreneurs in total (incl. LGBTQ+)"
   ]
  },
  {
   "cell_type": "code",
   "execution_count": 5,
   "metadata": {},
   "outputs": [
    {
     "data": {
      "text/html": [
       "<div class='tableauPlaceholder' id='viz1638267502613' style='position: relative'><noscript><a href='#'><img alt='Dashboard 1 ' src='https:&#47;&#47;public.tableau.com&#47;static&#47;images&#47;St&#47;StartOutEssteemDashboard&#47;Dashboard1&#47;1_rss.png' style='border: none' /></a></noscript><object class='tableauViz'  style='display:none;'><param name='host_url' value='https%3A%2F%2Fpublic.tableau.com%2F' /> <param name='embed_code_version' value='3' /> <param name='path' value='views&#47;StartOutEssteemDashboard&#47;Dashboard1?:language=en-US&amp;:embed=y&amp;:toolbar=yes&amp;:embed_code_version=3&amp;:loadOrderID=0&amp;:display_count=yes&amp;:tabs=no' /> <param name='toolbar' value='yes' /><param name='static_image' value='https:&#47;&#47;public.tableau.com&#47;static&#47;images&#47;St&#47;StartOutEssteemDashboard&#47;Dashboard1&#47;1.png' /> <param name='animate_transition' value='yes' /><param name='display_static_image' value='yes' /><param name='display_spinner' value='yes' /><param name='display_overlay' value='yes' /><param name='display_count' value='yes' /><param name='language' value='en-US' /></object></div>                <script type='text/javascript'>                    var divElement = document.getElementById('viz1638267502613');                    var vizElement = divElement.getElementsByTagName('object')[0];                    if ( divElement.offsetWidth > 800 ) { vizElement.style.width='1024px';vizElement.style.height='795px';} else if ( divElement.offsetWidth > 500 ) { vizElement.style.width='1024px';vizElement.style.height='795px';} else { vizElement.style.width='100%';vizElement.style.height='1327px';}                     var scriptElement = document.createElement('script');                    scriptElement.src = 'https://public.tableau.com/javascripts/api/viz_v1.js';                    vizElement.parentNode.insertBefore(scriptElement, vizElement);                </script>\n"
      ],
      "text/plain": [
       "<IPython.core.display.HTML object>"
      ]
     },
     "metadata": {},
     "output_type": "display_data"
    }
   ],
   "source": [
    "%%HTML\n",
    "<div class='tableauPlaceholder' id='viz1645536955597' style='position: relative'><noscript><a href='https:&#47;&#47;startout.org&#47;speii&#47;'><img alt='Funding Dash ' src='CK&#47;CKH5FX9YJ&#47;1_rss.png' style='border: none' /></a></noscript><object class='tableauViz'  style='display:none;'><param name='host_url' value='https%3A%2F%2Fpublic.tableau.com%2F' /> <param name='embed_code_version' value='3' /> <param name='path' value='shared&#47;CKH5FX9YJ' /> <param name='toolbar' value='yes' /><param name='static_image' value='CK&#47;CKH5FX9YJ&#47;1.png' /> <param name='animate_transition' value='yes' /><param name='display_static_image' value='yes' /><param name='display_spinner' value='yes' /><param name='display_overlay' value='yes' /><param name='display_count' value='yes' /><param name='language' value='en-US' /></object></div>                <script type='text/javascript'>                    var divElement = document.getElementById('viz1645536955597');                    var vizElement = divElement.getElementsByTagName('object')[0];                    if ( divElement.offsetWidth > 800 ) { vizElement.style.width='100%';vizElement.style.height=(divElement.offsetWidth*0.75)+'px';} else if ( divElement.offsetWidth > 500 ) { vizElement.style.width='100%';vizElement.style.height=(divElement.offsetWidth*0.75)+'px';} else { vizElement.style.width='100%';vizElement.style.height='1377px';}                     var scriptElement = document.createElement('script');                    scriptElement.src = 'https://public.tableau.com/javascripts/api/viz_v1.js';                    vizElement.parentNode.insertBefore(scriptElement, vizElement);                </script>"
   ]
  },
  {
   "cell_type": "markdown",
   "metadata": {},
   "source": [
    "**Original:**\n",
    "  \n",
    "  - **Size:**  absolute scale of average experience for the LGBT entrepreneur\n",
    "  - **Color:**  achievement gap - difference between the mean achievement and what we truly believe is possible\n",
    "\n",
    "**Changes Made:**\n",
    "  \n",
    "  - **Size:** Total\n",
    "  - **Color:** Mean\n",
    "  - different dashboard for each of the four factors in calculating entrepreneurship: patents, jobs, funding, and exits\n",
    "  - viewing all the different indices for each city\n",
    "\n",
    "[Link](https://public.tableau.com/shared/CKH5FX9YJ?:display_count=n&:origin=viz_share_link)"
   ]
  },
  {
   "cell_type": "markdown",
   "metadata": {},
   "source": [
    "## Timeline Features\n",
    "\n",
    "[Link](https://public.tableau.com/views/StartOutEssteemDashboardFakeDataset/MainDash?:language=en-US&:display_count=n&:origin=viz_share_link)"
   ]
  },
  {
   "cell_type": "code",
   "execution_count": 4,
   "metadata": {},
   "outputs": [
    {
     "data": {
      "text/html": [
       "<div class='tableauPlaceholder' id='viz1638252232309' style='position: relative'><noscript><a href='#'><img alt='Dashboard ' src='https:&#47;&#47;public.tableau.com&#47;static&#47;images&#47;St&#47;StartOutEssteemDashboardFakeDataset&#47;Dashboard&#47;1_rss.png' style='border: none' /></a></noscript><object class='tableauViz'  style='display:none;'><param name='host_url' value='https%3A%2F%2Fpublic.tableau.com%2F' /> <param name='embed_code_version' value='3' /> <param name='site_root' value='' /><param name='name' value='StartOutEssteemDashboardFakeDataset&#47;Dashboard' /><param name='tabs' value='no' /><param name='toolbar' value='yes' /><param name='static_image' value='https:&#47;&#47;public.tableau.com&#47;static&#47;images&#47;St&#47;StartOutEssteemDashboardFakeDataset&#47;Dashboard&#47;1.png' /> <param name='animate_transition' value='yes' /><param name='display_static_image' value='yes' /><param name='display_spinner' value='yes' /><param name='display_overlay' value='yes' /><param name='display_count' value='yes' /><param name='language' value='en-US' /></object></div>                <script type='text/javascript'>                    var divElement = document.getElementById('viz1638252232309');                    var vizElement = divElement.getElementsByTagName('object')[0];                    if ( divElement.offsetWidth > 800 ) { vizElement.style.width='100%';vizElement.style.height=(divElement.offsetWidth*0.75)+'px';} else if ( divElement.offsetWidth > 500 ) { vizElement.style.width='100%';vizElement.style.height=(divElement.offsetWidth*0.75)+'px';} else { vizElement.style.width='100%';vizElement.style.height='1327px';}                     var scriptElement = document.createElement('script');                    scriptElement.src = 'https://public.tableau.com/javascripts/api/viz_v1.js';                    vizElement.parentNode.insertBefore(scriptElement, vizElement);                </script>\n"
      ],
      "text/plain": [
       "<IPython.core.display.HTML object>"
      ]
     },
     "metadata": {},
     "output_type": "display_data"
    }
   ],
   "source": [
    "%%HTML\n",
    "<div class='tableauPlaceholder' id='viz1645537876946' style='position: relative'><object class='tableauViz'  style='display:none;'><param name='host_url' value='https%3A%2F%2Fpublic.tableau.com%2F' /> <param name='embed_code_version' value='3' /> <param name='site_root' value='' /><param name='name' value='StartOutEssteemDashboardFakeDataset&#47;MainDash' /><param name='tabs' value='no' /><param name='toolbar' value='yes' /><param name='animate_transition' value='yes' /><param name='display_static_image' value='yes' /><param name='display_spinner' value='yes' /><param name='display_overlay' value='yes' /><param name='display_count' value='yes' /><param name='language' value='en-US' /></object></div>                <script type='text/javascript'>                    var divElement = document.getElementById('viz1645537876946');                    var vizElement = divElement.getElementsByTagName('object')[0];                    if ( divElement.offsetWidth > 800 ) { vizElement.style.width='1366px';vizElement.style.height='795px';} else if ( divElement.offsetWidth > 500 ) { vizElement.style.width='1366px';vizElement.style.height='795px';} else { vizElement.style.width='100%';vizElement.style.height='1727px';}                     var scriptElement = document.createElement('script');                    scriptElement.src = 'https://public.tableau.com/javascripts/api/viz_v1.js';                    vizElement.parentNode.insertBefore(scriptElement, vizElement);                </script>"
   ]
  },
  {
   "cell_type": "markdown",
   "metadata": {},
   "source": [
    "# Different Views:\n",
    "- Comparing Total vs. Mean\n",
    "- Comparing LGBT vs. Everyone Else (on/off)\n",
    "  - funding comparable to non-LGBT but jobs is much less could be indication of creation of less job intensive industries\n",
    "- Comparing Actual vs. Actual (est.)\n",
    "    - indication of out vs. non-out\n",
    "- Comparing Achievable vs. Actual\n",
    "- Industry Fingerprint\n",
    "    - look at amount of LGBT entrepreneurs per industry per city\n",
    "- Chart View and LGBT\n",
    "    - Pittsburgh high in Funding and Index, so small sample size\n",
    "    - SF dwarfs everyone else in Funding"
   ]
  },
  {
   "cell_type": "code",
   "execution_count": null,
   "metadata": {},
   "outputs": [],
   "source": []
  }
 ],
 "metadata": {
  "interpreter": {
   "hash": "f1a05a6f3fa091de1c7a4da341096168a21333d239f1294a029470b7b2e2f5a9"
  },
  "kernelspec": {
   "display_name": "Python 3.9.4 64-bit ('learn-env': conda)",
   "language": "python",
   "name": "python3"
  },
  "language_info": {
   "codemirror_mode": {
    "name": "ipython",
    "version": 3
   },
   "file_extension": ".py",
   "mimetype": "text/x-python",
   "name": "python",
   "nbconvert_exporter": "python",
   "pygments_lexer": "ipython3",
   "version": "3.9.4"
  },
  "orig_nbformat": 4
 },
 "nbformat": 4,
 "nbformat_minor": 2
}
